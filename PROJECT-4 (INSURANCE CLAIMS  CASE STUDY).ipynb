{
 "cells": [
  {
   "cell_type": "markdown",
   "id": "6aaf3785",
   "metadata": {},
   "source": [
    "# CASE STUDY:DATA EXPLORATORY ANALYSIS AND HYPOTHESIS TESTING FOR INSURANCE CLAIMS DATA¶"
   ]
  },
  {
   "cell_type": "markdown",
   "id": "7ae3f8eb",
   "metadata": {},
   "source": [
    "### 1.Import claims_data.csv and cust_data.csv which is provided to you and combine the two datasets appropriately to create a 360-degree view of the data. Use the same for the subsequent questions."
   ]
  },
  {
   "cell_type": "code",
   "execution_count": 1,
   "id": "e058dd9f",
   "metadata": {},
   "outputs": [],
   "source": [
    "import numpy as np\n",
    "import pandas as pd\n",
    "from pandas import DataFrame\n",
    "from matplotlib import pyplot as plt\n",
    "import seaborn as sns\n",
    "import datetime"
   ]
  },
  {
   "cell_type": "code",
   "execution_count": 2,
   "id": "d7ed33b7",
   "metadata": {},
   "outputs": [],
   "source": [
    "claims= pd.read_csv(\"C:\\ANALAYTIX LABS\\PYTHON\\PROJECT4 INSURANCE CLAIMS\\claims.csv\")\n",
    "cust= pd.read_csv(\"C:\\ANALAYTIX LABS\\PYTHON\\PROJECT4 INSURANCE CLAIMS\\cust_demographics.csv\")"
   ]
  },
  {
   "cell_type": "code",
   "execution_count": 3,
   "id": "69d198a7",
   "metadata": {},
   "outputs": [
    {
     "data": {
      "text/html": [
       "<div>\n",
       "<style scoped>\n",
       "    .dataframe tbody tr th:only-of-type {\n",
       "        vertical-align: middle;\n",
       "    }\n",
       "\n",
       "    .dataframe tbody tr th {\n",
       "        vertical-align: top;\n",
       "    }\n",
       "\n",
       "    .dataframe thead th {\n",
       "        text-align: right;\n",
       "    }\n",
       "</style>\n",
       "<table border=\"1\" class=\"dataframe\">\n",
       "  <thead>\n",
       "    <tr style=\"text-align: right;\">\n",
       "      <th></th>\n",
       "      <th>claim_id</th>\n",
       "      <th>customer_id</th>\n",
       "      <th>incident_cause</th>\n",
       "      <th>claim_date</th>\n",
       "      <th>claim_area</th>\n",
       "      <th>police_report</th>\n",
       "      <th>claim_type</th>\n",
       "      <th>claim_amount</th>\n",
       "      <th>total_policy_claims</th>\n",
       "      <th>fraudulent</th>\n",
       "    </tr>\n",
       "  </thead>\n",
       "  <tbody>\n",
       "    <tr>\n",
       "      <th>0</th>\n",
       "      <td>54004764</td>\n",
       "      <td>21868593</td>\n",
       "      <td>Driver error</td>\n",
       "      <td>11/27/2017</td>\n",
       "      <td>Auto</td>\n",
       "      <td>No</td>\n",
       "      <td>Material only</td>\n",
       "      <td>$2,980</td>\n",
       "      <td>1.0</td>\n",
       "      <td>No</td>\n",
       "    </tr>\n",
       "    <tr>\n",
       "      <th>1</th>\n",
       "      <td>33985796</td>\n",
       "      <td>75740424</td>\n",
       "      <td>Crime</td>\n",
       "      <td>10/3/2018</td>\n",
       "      <td>Home</td>\n",
       "      <td>Unknown</td>\n",
       "      <td>Material only</td>\n",
       "      <td>$2,980</td>\n",
       "      <td>3.0</td>\n",
       "      <td>No</td>\n",
       "    </tr>\n",
       "    <tr>\n",
       "      <th>2</th>\n",
       "      <td>53522022</td>\n",
       "      <td>30308357</td>\n",
       "      <td>Other driver error</td>\n",
       "      <td>2/2/2018</td>\n",
       "      <td>Auto</td>\n",
       "      <td>No</td>\n",
       "      <td>Material only</td>\n",
       "      <td>$3,369.50</td>\n",
       "      <td>1.0</td>\n",
       "      <td>Yes</td>\n",
       "    </tr>\n",
       "    <tr>\n",
       "      <th>3</th>\n",
       "      <td>13015401</td>\n",
       "      <td>47830476</td>\n",
       "      <td>Natural causes</td>\n",
       "      <td>6/17/2018</td>\n",
       "      <td>Auto</td>\n",
       "      <td>No</td>\n",
       "      <td>Material only</td>\n",
       "      <td>$1,680</td>\n",
       "      <td>1.0</td>\n",
       "      <td>No</td>\n",
       "    </tr>\n",
       "    <tr>\n",
       "      <th>4</th>\n",
       "      <td>22890252</td>\n",
       "      <td>19269962</td>\n",
       "      <td>Crime</td>\n",
       "      <td>1/13/2018</td>\n",
       "      <td>Auto</td>\n",
       "      <td>No</td>\n",
       "      <td>Material only</td>\n",
       "      <td>$2,680</td>\n",
       "      <td>1.0</td>\n",
       "      <td>No</td>\n",
       "    </tr>\n",
       "  </tbody>\n",
       "</table>\n",
       "</div>"
      ],
      "text/plain": [
       "   claim_id  customer_id      incident_cause  claim_date claim_area  \\\n",
       "0  54004764     21868593        Driver error  11/27/2017       Auto   \n",
       "1  33985796     75740424               Crime   10/3/2018       Home   \n",
       "2  53522022     30308357  Other driver error    2/2/2018       Auto   \n",
       "3  13015401     47830476      Natural causes   6/17/2018       Auto   \n",
       "4  22890252     19269962               Crime   1/13/2018       Auto   \n",
       "\n",
       "  police_report     claim_type claim_amount  total_policy_claims fraudulent  \n",
       "0            No  Material only      $2,980                   1.0         No  \n",
       "1       Unknown  Material only      $2,980                   3.0         No  \n",
       "2            No  Material only   $3,369.50                   1.0        Yes  \n",
       "3            No  Material only      $1,680                   1.0         No  \n",
       "4            No  Material only      $2,680                   1.0         No  "
      ]
     },
     "execution_count": 3,
     "metadata": {},
     "output_type": "execute_result"
    }
   ],
   "source": [
    "claims.head()"
   ]
  },
  {
   "cell_type": "code",
   "execution_count": 4,
   "id": "74f25f54",
   "metadata": {},
   "outputs": [
    {
     "data": {
      "text/html": [
       "<div>\n",
       "<style scoped>\n",
       "    .dataframe tbody tr th:only-of-type {\n",
       "        vertical-align: middle;\n",
       "    }\n",
       "\n",
       "    .dataframe tbody tr th {\n",
       "        vertical-align: top;\n",
       "    }\n",
       "\n",
       "    .dataframe thead th {\n",
       "        text-align: right;\n",
       "    }\n",
       "</style>\n",
       "<table border=\"1\" class=\"dataframe\">\n",
       "  <thead>\n",
       "    <tr style=\"text-align: right;\">\n",
       "      <th></th>\n",
       "      <th>CUST_ID</th>\n",
       "      <th>gender</th>\n",
       "      <th>DateOfBirth</th>\n",
       "      <th>State</th>\n",
       "      <th>Contact</th>\n",
       "      <th>Segment</th>\n",
       "    </tr>\n",
       "  </thead>\n",
       "  <tbody>\n",
       "    <tr>\n",
       "      <th>0</th>\n",
       "      <td>21868593</td>\n",
       "      <td>Female</td>\n",
       "      <td>12-Jan-79</td>\n",
       "      <td>VT</td>\n",
       "      <td>789-916-8172</td>\n",
       "      <td>Platinum</td>\n",
       "    </tr>\n",
       "    <tr>\n",
       "      <th>1</th>\n",
       "      <td>75740424</td>\n",
       "      <td>Female</td>\n",
       "      <td>13-Jan-70</td>\n",
       "      <td>ME</td>\n",
       "      <td>265-543-1264</td>\n",
       "      <td>Silver</td>\n",
       "    </tr>\n",
       "    <tr>\n",
       "      <th>2</th>\n",
       "      <td>30308357</td>\n",
       "      <td>Female</td>\n",
       "      <td>11-Mar-84</td>\n",
       "      <td>TN</td>\n",
       "      <td>798-631-4758</td>\n",
       "      <td>Silver</td>\n",
       "    </tr>\n",
       "    <tr>\n",
       "      <th>3</th>\n",
       "      <td>47830476</td>\n",
       "      <td>Female</td>\n",
       "      <td>1-May-86</td>\n",
       "      <td>MA</td>\n",
       "      <td>413-187-7945</td>\n",
       "      <td>Silver</td>\n",
       "    </tr>\n",
       "    <tr>\n",
       "      <th>4</th>\n",
       "      <td>19269962</td>\n",
       "      <td>Male</td>\n",
       "      <td>13-May-77</td>\n",
       "      <td>NV</td>\n",
       "      <td>956-871-8691</td>\n",
       "      <td>Gold</td>\n",
       "    </tr>\n",
       "  </tbody>\n",
       "</table>\n",
       "</div>"
      ],
      "text/plain": [
       "    CUST_ID  gender DateOfBirth State       Contact   Segment\n",
       "0  21868593  Female   12-Jan-79    VT  789-916-8172  Platinum\n",
       "1  75740424  Female   13-Jan-70    ME  265-543-1264    Silver\n",
       "2  30308357  Female   11-Mar-84    TN  798-631-4758    Silver\n",
       "3  47830476  Female    1-May-86    MA  413-187-7945    Silver\n",
       "4  19269962    Male   13-May-77    NV  956-871-8691      Gold"
      ]
     },
     "execution_count": 4,
     "metadata": {},
     "output_type": "execute_result"
    }
   ],
   "source": [
    "cust.head()"
   ]
  },
  {
   "cell_type": "code",
   "execution_count": 5,
   "id": "5675b294",
   "metadata": {},
   "outputs": [
    {
     "data": {
      "text/html": [
       "<div>\n",
       "<style scoped>\n",
       "    .dataframe tbody tr th:only-of-type {\n",
       "        vertical-align: middle;\n",
       "    }\n",
       "\n",
       "    .dataframe tbody tr th {\n",
       "        vertical-align: top;\n",
       "    }\n",
       "\n",
       "    .dataframe thead th {\n",
       "        text-align: right;\n",
       "    }\n",
       "</style>\n",
       "<table border=\"1\" class=\"dataframe\">\n",
       "  <thead>\n",
       "    <tr style=\"text-align: right;\">\n",
       "      <th></th>\n",
       "      <th>CUST_ID</th>\n",
       "      <th>gender</th>\n",
       "      <th>DateOfBirth</th>\n",
       "      <th>State</th>\n",
       "      <th>Contact</th>\n",
       "      <th>Segment</th>\n",
       "      <th>claim_id</th>\n",
       "      <th>incident_cause</th>\n",
       "      <th>claim_date</th>\n",
       "      <th>claim_area</th>\n",
       "      <th>police_report</th>\n",
       "      <th>claim_type</th>\n",
       "      <th>claim_amount</th>\n",
       "      <th>total_policy_claims</th>\n",
       "      <th>fraudulent</th>\n",
       "    </tr>\n",
       "  </thead>\n",
       "  <tbody>\n",
       "    <tr>\n",
       "      <th>0</th>\n",
       "      <td>21868593</td>\n",
       "      <td>Female</td>\n",
       "      <td>12-Jan-79</td>\n",
       "      <td>VT</td>\n",
       "      <td>789-916-8172</td>\n",
       "      <td>Platinum</td>\n",
       "      <td>54004764</td>\n",
       "      <td>Driver error</td>\n",
       "      <td>11/27/2017</td>\n",
       "      <td>Auto</td>\n",
       "      <td>No</td>\n",
       "      <td>Material only</td>\n",
       "      <td>$2,980</td>\n",
       "      <td>1.0</td>\n",
       "      <td>No</td>\n",
       "    </tr>\n",
       "    <tr>\n",
       "      <th>1</th>\n",
       "      <td>75740424</td>\n",
       "      <td>Female</td>\n",
       "      <td>13-Jan-70</td>\n",
       "      <td>ME</td>\n",
       "      <td>265-543-1264</td>\n",
       "      <td>Silver</td>\n",
       "      <td>33985796</td>\n",
       "      <td>Crime</td>\n",
       "      <td>10/3/2018</td>\n",
       "      <td>Home</td>\n",
       "      <td>Unknown</td>\n",
       "      <td>Material only</td>\n",
       "      <td>$2,980</td>\n",
       "      <td>3.0</td>\n",
       "      <td>No</td>\n",
       "    </tr>\n",
       "  </tbody>\n",
       "</table>\n",
       "</div>"
      ],
      "text/plain": [
       "    CUST_ID  gender DateOfBirth State       Contact   Segment  claim_id  \\\n",
       "0  21868593  Female   12-Jan-79    VT  789-916-8172  Platinum  54004764   \n",
       "1  75740424  Female   13-Jan-70    ME  265-543-1264    Silver  33985796   \n",
       "\n",
       "  incident_cause  claim_date claim_area police_report     claim_type  \\\n",
       "0   Driver error  11/27/2017       Auto            No  Material only   \n",
       "1          Crime   10/3/2018       Home       Unknown  Material only   \n",
       "\n",
       "  claim_amount  total_policy_claims fraudulent  \n",
       "0      $2,980                   1.0         No  \n",
       "1      $2,980                   3.0         No  "
      ]
     },
     "execution_count": 5,
     "metadata": {},
     "output_type": "execute_result"
    }
   ],
   "source": [
    "merged_c_c= pd.merge(right = claims,left = cust, right_on = \"customer_id\", left_on = \"CUST_ID\",how = \"inner\")\n",
    "merged_c_c.drop(columns = [\"customer_id\"], inplace = True)\n",
    "merged_c_c.head(2)"
   ]
  },
  {
   "cell_type": "code",
   "execution_count": 6,
   "id": "261f77b4",
   "metadata": {},
   "outputs": [
    {
     "data": {
      "text/plain": [
       "(1085, 15)"
      ]
     },
     "execution_count": 6,
     "metadata": {},
     "output_type": "execute_result"
    }
   ],
   "source": [
    "merged_c_c.shape"
   ]
  },
  {
   "cell_type": "code",
   "execution_count": 7,
   "id": "2941426d",
   "metadata": {},
   "outputs": [
    {
     "data": {
      "text/plain": [
       "CUST_ID                1085\n",
       "gender                 1085\n",
       "DateOfBirth            1085\n",
       "State                  1085\n",
       "Contact                1085\n",
       "Segment                1085\n",
       "claim_id               1085\n",
       "incident_cause         1085\n",
       "claim_date             1085\n",
       "claim_area             1085\n",
       "police_report          1085\n",
       "claim_type             1085\n",
       "claim_amount           1085\n",
       "total_policy_claims    1085\n",
       "fraudulent             1085\n",
       "dtype: int64"
      ]
     },
     "execution_count": 7,
     "metadata": {},
     "output_type": "execute_result"
    }
   ],
   "source": [
    "merged_c_c.isna().count()"
   ]
  },
  {
   "cell_type": "markdown",
   "id": "43dc13f9",
   "metadata": {},
   "source": [
    "### 2. Perform a data audit for the datatypes and find out if there are any mismatch within the current datatypes of the columns and their business significance¶"
   ]
  },
  {
   "cell_type": "code",
   "execution_count": 8,
   "id": "da056888",
   "metadata": {},
   "outputs": [
    {
     "data": {
      "text/html": [
       "<div>\n",
       "<style scoped>\n",
       "    .dataframe tbody tr th:only-of-type {\n",
       "        vertical-align: middle;\n",
       "    }\n",
       "\n",
       "    .dataframe tbody tr th {\n",
       "        vertical-align: top;\n",
       "    }\n",
       "\n",
       "    .dataframe thead th {\n",
       "        text-align: right;\n",
       "    }\n",
       "</style>\n",
       "<table border=\"1\" class=\"dataframe\">\n",
       "  <thead>\n",
       "    <tr style=\"text-align: right;\">\n",
       "      <th></th>\n",
       "      <th>CUST_ID</th>\n",
       "      <th>gender</th>\n",
       "      <th>DateOfBirth</th>\n",
       "      <th>State</th>\n",
       "      <th>Contact</th>\n",
       "      <th>Segment</th>\n",
       "      <th>claim_id</th>\n",
       "      <th>incident_cause</th>\n",
       "      <th>claim_date</th>\n",
       "      <th>claim_area</th>\n",
       "      <th>police_report</th>\n",
       "      <th>claim_type</th>\n",
       "      <th>claim_amount</th>\n",
       "      <th>total_policy_claims</th>\n",
       "      <th>fraudulent</th>\n",
       "    </tr>\n",
       "  </thead>\n",
       "  <tbody>\n",
       "    <tr>\n",
       "      <th>0</th>\n",
       "      <td>21868593</td>\n",
       "      <td>Female</td>\n",
       "      <td>12-Jan-79</td>\n",
       "      <td>VT</td>\n",
       "      <td>789-916-8172</td>\n",
       "      <td>Platinum</td>\n",
       "      <td>54004764</td>\n",
       "      <td>Driver error</td>\n",
       "      <td>11/27/2017</td>\n",
       "      <td>Auto</td>\n",
       "      <td>No</td>\n",
       "      <td>Material only</td>\n",
       "      <td>$2,980</td>\n",
       "      <td>1.0</td>\n",
       "      <td>No</td>\n",
       "    </tr>\n",
       "    <tr>\n",
       "      <th>1</th>\n",
       "      <td>75740424</td>\n",
       "      <td>Female</td>\n",
       "      <td>13-Jan-70</td>\n",
       "      <td>ME</td>\n",
       "      <td>265-543-1264</td>\n",
       "      <td>Silver</td>\n",
       "      <td>33985796</td>\n",
       "      <td>Crime</td>\n",
       "      <td>10/3/2018</td>\n",
       "      <td>Home</td>\n",
       "      <td>Unknown</td>\n",
       "      <td>Material only</td>\n",
       "      <td>$2,980</td>\n",
       "      <td>3.0</td>\n",
       "      <td>No</td>\n",
       "    </tr>\n",
       "    <tr>\n",
       "      <th>2</th>\n",
       "      <td>30308357</td>\n",
       "      <td>Female</td>\n",
       "      <td>11-Mar-84</td>\n",
       "      <td>TN</td>\n",
       "      <td>798-631-4758</td>\n",
       "      <td>Silver</td>\n",
       "      <td>53522022</td>\n",
       "      <td>Other driver error</td>\n",
       "      <td>2/2/2018</td>\n",
       "      <td>Auto</td>\n",
       "      <td>No</td>\n",
       "      <td>Material only</td>\n",
       "      <td>$3,369.50</td>\n",
       "      <td>1.0</td>\n",
       "      <td>Yes</td>\n",
       "    </tr>\n",
       "    <tr>\n",
       "      <th>3</th>\n",
       "      <td>30308357</td>\n",
       "      <td>Female</td>\n",
       "      <td>11-Mar-84</td>\n",
       "      <td>TN</td>\n",
       "      <td>798-631-4758</td>\n",
       "      <td>Silver</td>\n",
       "      <td>63017412</td>\n",
       "      <td>Driver error</td>\n",
       "      <td>4/4/2018</td>\n",
       "      <td>Auto</td>\n",
       "      <td>No</td>\n",
       "      <td>Material only</td>\n",
       "      <td>$1,950</td>\n",
       "      <td>6.0</td>\n",
       "      <td>No</td>\n",
       "    </tr>\n",
       "    <tr>\n",
       "      <th>4</th>\n",
       "      <td>47830476</td>\n",
       "      <td>Female</td>\n",
       "      <td>1-May-86</td>\n",
       "      <td>MA</td>\n",
       "      <td>413-187-7945</td>\n",
       "      <td>Silver</td>\n",
       "      <td>13015401</td>\n",
       "      <td>Natural causes</td>\n",
       "      <td>6/17/2018</td>\n",
       "      <td>Auto</td>\n",
       "      <td>No</td>\n",
       "      <td>Material only</td>\n",
       "      <td>$1,680</td>\n",
       "      <td>1.0</td>\n",
       "      <td>No</td>\n",
       "    </tr>\n",
       "  </tbody>\n",
       "</table>\n",
       "</div>"
      ],
      "text/plain": [
       "    CUST_ID  gender DateOfBirth State       Contact   Segment  claim_id  \\\n",
       "0  21868593  Female   12-Jan-79    VT  789-916-8172  Platinum  54004764   \n",
       "1  75740424  Female   13-Jan-70    ME  265-543-1264    Silver  33985796   \n",
       "2  30308357  Female   11-Mar-84    TN  798-631-4758    Silver  53522022   \n",
       "3  30308357  Female   11-Mar-84    TN  798-631-4758    Silver  63017412   \n",
       "4  47830476  Female    1-May-86    MA  413-187-7945    Silver  13015401   \n",
       "\n",
       "       incident_cause  claim_date claim_area police_report     claim_type  \\\n",
       "0        Driver error  11/27/2017       Auto            No  Material only   \n",
       "1               Crime   10/3/2018       Home       Unknown  Material only   \n",
       "2  Other driver error    2/2/2018       Auto            No  Material only   \n",
       "3        Driver error    4/4/2018       Auto            No  Material only   \n",
       "4      Natural causes   6/17/2018       Auto            No  Material only   \n",
       "\n",
       "  claim_amount  total_policy_claims fraudulent  \n",
       "0      $2,980                   1.0         No  \n",
       "1      $2,980                   3.0         No  \n",
       "2   $3,369.50                   1.0        Yes  \n",
       "3      $1,950                   6.0         No  \n",
       "4      $1,680                   1.0         No  "
      ]
     },
     "execution_count": 8,
     "metadata": {},
     "output_type": "execute_result"
    }
   ],
   "source": [
    "merged_c_c.head()"
   ]
  },
  {
   "cell_type": "code",
   "execution_count": 9,
   "id": "f40b2e82",
   "metadata": {},
   "outputs": [
    {
     "data": {
      "text/plain": [
       "0      1979-01-12\n",
       "1      1970-01-13\n",
       "2      1984-03-11\n",
       "3      1984-03-11\n",
       "4      1986-05-01\n",
       "          ...    \n",
       "1080   1981-03-15\n",
       "1081   1996-07-07\n",
       "1082   1990-04-11\n",
       "1083   1964-10-22\n",
       "1084   1995-07-12\n",
       "Name: DateOfBirth, Length: 1085, dtype: datetime64[ns]"
      ]
     },
     "execution_count": 9,
     "metadata": {},
     "output_type": "execute_result"
    }
   ],
   "source": [
    "merged_c_c[\"DateOfBirth\"] = pd.to_datetime(merged_c_c.DateOfBirth, format = \"%d-%b-%y\")\n",
    "merged_c_c.loc[(merged_c_c.DateOfBirth.dt.year > 2020),\"DateOfBirth\"]=merged_c_c[merged_c_c.DateOfBirth.dt.year > 2020][\"DateOfBirth\"].apply(lambda x: x - pd.DateOffset(years=100))\n",
    "merged_c_c[\"DateOfBirth\"]"
   ]
  },
  {
   "cell_type": "code",
   "execution_count": 10,
   "id": "a89cea53",
   "metadata": {},
   "outputs": [
    {
     "data": {
      "text/plain": [
       "0   2017-11-27\n",
       "1   2018-10-03\n",
       "2   2018-02-02\n",
       "3   2018-04-04\n",
       "4   2018-06-17\n",
       "Name: claim_date, dtype: datetime64[ns]"
      ]
     },
     "execution_count": 10,
     "metadata": {},
     "output_type": "execute_result"
    }
   ],
   "source": [
    "merged_c_c[\"claim_date\"] = pd.to_datetime(merged_c_c.claim_date, format = \"%m/%d/%Y\")\n",
    "merged_c_c[\"claim_date\"].head()"
   ]
  },
  {
   "cell_type": "markdown",
   "id": "0b13ac98",
   "metadata": {},
   "source": [
    "### 3. Convert the column claim_amount to numeric. Use the appropriate modules/attributes to remove the $ sign."
   ]
  },
  {
   "cell_type": "code",
   "execution_count": 11,
   "id": "6c9686b9",
   "metadata": {},
   "outputs": [
    {
     "data": {
      "text/plain": [
       "0         2,980 \n",
       "1         2,980 \n",
       "2      3,369.50 \n",
       "3         1,950 \n",
       "4         1,680 \n",
       "5         1,440 \n",
       "6         2,680 \n",
       "7         2,240 \n",
       "8     38,306.50 \n",
       "9        36,810 \n",
       "10        1,730 \n",
       "11        1,160 \n",
       "12        2,620 \n",
       "13     2,748.50 \n",
       "14        1,495 \n",
       "15       16,690 \n",
       "16        1,870 \n",
       "17        1,050 \n",
       "18       32,560 \n",
       "19        2,870 \n",
       "20     3,208.50 \n",
       "21       17,800 \n",
       "22       31,380 \n",
       "23       36,190 \n",
       "24           nan\n",
       "25        1,010 \n",
       "Name: claim_amount, dtype: object"
      ]
     },
     "execution_count": 11,
     "metadata": {},
     "output_type": "execute_result"
    }
   ],
   "source": [
    "merged_c_c[\"claim_amount\"]=merged_c_c[\"claim_amount\"].apply(lambda x:str(x).replace(\"$\",\"\"))\n",
    "merged_c_c[\"claim_amount\"].head(26)"
   ]
  },
  {
   "cell_type": "code",
   "execution_count": 12,
   "id": "aab8145c",
   "metadata": {},
   "outputs": [
    {
     "data": {
      "text/plain": [
       "0         2980 \n",
       "1         2980 \n",
       "2      3369.50 \n",
       "3         1950 \n",
       "4         1680 \n",
       "5         1440 \n",
       "6         2680 \n",
       "7         2240 \n",
       "8     38306.50 \n",
       "9        36810 \n",
       "10        1730 \n",
       "11        1160 \n",
       "12        2620 \n",
       "13     2748.50 \n",
       "14        1495 \n",
       "15       16690 \n",
       "16        1870 \n",
       "17        1050 \n",
       "18       32560 \n",
       "19        2870 \n",
       "20     3208.50 \n",
       "21       17800 \n",
       "22       31380 \n",
       "23       36190 \n",
       "24          nan\n",
       "25        1010 \n",
       "Name: claim_amount, dtype: object"
      ]
     },
     "execution_count": 12,
     "metadata": {},
     "output_type": "execute_result"
    }
   ],
   "source": [
    "merged_c_c[\"claim_amount\"]=merged_c_c[\"claim_amount\"].apply(lambda x:str(x).replace(\",\",\"\"))\n",
    "merged_c_c[\"claim_amount\"].head(26)"
   ]
  },
  {
   "cell_type": "code",
   "execution_count": 18,
   "id": "740325de",
   "metadata": {},
   "outputs": [
    {
     "data": {
      "text/plain": [
       "0         2980 \n",
       "1         2980 \n",
       "2      3369.50 \n",
       "3         1950 \n",
       "4         1680 \n",
       "5         1440 \n",
       "6         2680 \n",
       "7         2240 \n",
       "8     38306.50 \n",
       "9        36810 \n",
       "10        1730 \n",
       "11        1160 \n",
       "12        2620 \n",
       "13     2748.50 \n",
       "14        1495 \n",
       "15       16690 \n",
       "16        1870 \n",
       "17        1050 \n",
       "18       32560 \n",
       "19        2870 \n",
       "20     3208.50 \n",
       "21       17800 \n",
       "22       31380 \n",
       "23       36190 \n",
       "24             \n",
       "25        1010 \n",
       "Name: claim_amount, dtype: object"
      ]
     },
     "execution_count": 18,
     "metadata": {},
     "output_type": "execute_result"
    }
   ],
   "source": [
    "merged_c_c['claim_amount']=merged_c_c['claim_amount'].fillna(0)\n",
    "merged_c_c[\"claim_amount\"].head(26)"
   ]
  },
  {
   "cell_type": "code",
   "execution_count": 21,
   "id": "8ea5e5dd",
   "metadata": {},
   "outputs": [
    {
     "data": {
      "text/plain": [
       "0      2980.0\n",
       "1      2980.0\n",
       "2      3369.5\n",
       "3      1950.0\n",
       "4      1680.0\n",
       "5      1440.0\n",
       "6      2680.0\n",
       "7      2240.0\n",
       "8     38306.5\n",
       "9     36810.0\n",
       "10     1730.0\n",
       "11     1160.0\n",
       "12     2620.0\n",
       "13     2748.5\n",
       "14     1495.0\n",
       "15    16690.0\n",
       "16     1870.0\n",
       "17     1050.0\n",
       "18    32560.0\n",
       "19     2870.0\n",
       "20     3208.5\n",
       "21    17800.0\n",
       "22    31380.0\n",
       "23    36190.0\n",
       "24        0.0\n",
       "25     1010.0\n",
       "Name: claim_amount, dtype: float64"
      ]
     },
     "execution_count": 21,
     "metadata": {},
     "output_type": "execute_result"
    }
   ],
   "source": [
    "merged_c_c['claim_amount'] = pd.to_numeric(merged_c_c['claim_amount']).fillna(0)\n",
    "merged_c_c['claim_amount'].head(26)"
   ]
  },
  {
   "cell_type": "markdown",
   "id": "45afc32d",
   "metadata": {},
   "source": [
    "### 4. Of all the injury claims, some of them have gone unreported with the police. Create an alert flag (1,0) for all such claims."
   ]
  },
  {
   "cell_type": "code",
   "execution_count": 22,
   "id": "56068b6c",
   "metadata": {},
   "outputs": [
    {
     "data": {
      "text/plain": [
       "0     0\n",
       "1     1\n",
       "2     0\n",
       "3     0\n",
       "4     0\n",
       "5     1\n",
       "6     0\n",
       "7     0\n",
       "8     0\n",
       "9     1\n",
       "10    0\n",
       "11    0\n",
       "12    1\n",
       "13    0\n",
       "14    0\n",
       "15    1\n",
       "16    1\n",
       "17    1\n",
       "18    0\n",
       "19    0\n",
       "20    1\n",
       "21    0\n",
       "22    0\n",
       "23    0\n",
       "24    0\n",
       "25    0\n",
       "Name: unreported, dtype: int32"
      ]
     },
     "execution_count": 22,
     "metadata": {},
     "output_type": "execute_result"
    }
   ],
   "source": [
    "merged_c_c['unreported']= np.where(merged_c_c.police_report== 'Unknown',1,0)\n",
    "merged_c_c['unreported'].head(26)"
   ]
  },
  {
   "cell_type": "markdown",
   "id": "6d139fb0",
   "metadata": {},
   "source": [
    "### 5. One customer can claim for insurance more than once and in each claim,multiple categories of claims can be involved. However, customer ID should remain unique.¶"
   ]
  },
  {
   "cell_type": "code",
   "execution_count": 23,
   "id": "90e1cb65",
   "metadata": {},
   "outputs": [
    {
     "data": {
      "text/html": [
       "<div>\n",
       "<style scoped>\n",
       "    .dataframe tbody tr th:only-of-type {\n",
       "        vertical-align: middle;\n",
       "    }\n",
       "\n",
       "    .dataframe tbody tr th {\n",
       "        vertical-align: top;\n",
       "    }\n",
       "\n",
       "    .dataframe thead th {\n",
       "        text-align: right;\n",
       "    }\n",
       "</style>\n",
       "<table border=\"1\" class=\"dataframe\">\n",
       "  <thead>\n",
       "    <tr style=\"text-align: right;\">\n",
       "      <th></th>\n",
       "      <th>CUST_ID</th>\n",
       "      <th>gender</th>\n",
       "      <th>DateOfBirth</th>\n",
       "      <th>State</th>\n",
       "      <th>Contact</th>\n",
       "      <th>Segment</th>\n",
       "      <th>claim_id</th>\n",
       "      <th>incident_cause</th>\n",
       "      <th>claim_date</th>\n",
       "      <th>claim_area</th>\n",
       "      <th>police_report</th>\n",
       "      <th>claim_type</th>\n",
       "      <th>claim_amount</th>\n",
       "      <th>total_policy_claims</th>\n",
       "      <th>fraudulent</th>\n",
       "      <th>unreported</th>\n",
       "    </tr>\n",
       "  </thead>\n",
       "  <tbody>\n",
       "    <tr>\n",
       "      <th>0</th>\n",
       "      <td>21868593</td>\n",
       "      <td>Female</td>\n",
       "      <td>1979-01-12</td>\n",
       "      <td>VT</td>\n",
       "      <td>789-916-8172</td>\n",
       "      <td>Platinum</td>\n",
       "      <td>54004764</td>\n",
       "      <td>Driver error</td>\n",
       "      <td>2017-11-27</td>\n",
       "      <td>Auto</td>\n",
       "      <td>No</td>\n",
       "      <td>Material only</td>\n",
       "      <td>2980.0</td>\n",
       "      <td>1.0</td>\n",
       "      <td>No</td>\n",
       "      <td>0</td>\n",
       "    </tr>\n",
       "    <tr>\n",
       "      <th>1</th>\n",
       "      <td>75740424</td>\n",
       "      <td>Female</td>\n",
       "      <td>1970-01-13</td>\n",
       "      <td>ME</td>\n",
       "      <td>265-543-1264</td>\n",
       "      <td>Silver</td>\n",
       "      <td>33985796</td>\n",
       "      <td>Crime</td>\n",
       "      <td>2018-10-03</td>\n",
       "      <td>Home</td>\n",
       "      <td>Unknown</td>\n",
       "      <td>Material only</td>\n",
       "      <td>2980.0</td>\n",
       "      <td>3.0</td>\n",
       "      <td>No</td>\n",
       "      <td>1</td>\n",
       "    </tr>\n",
       "    <tr>\n",
       "      <th>3</th>\n",
       "      <td>30308357</td>\n",
       "      <td>Female</td>\n",
       "      <td>1984-03-11</td>\n",
       "      <td>TN</td>\n",
       "      <td>798-631-4758</td>\n",
       "      <td>Silver</td>\n",
       "      <td>63017412</td>\n",
       "      <td>Driver error</td>\n",
       "      <td>2018-04-04</td>\n",
       "      <td>Auto</td>\n",
       "      <td>No</td>\n",
       "      <td>Material only</td>\n",
       "      <td>1950.0</td>\n",
       "      <td>6.0</td>\n",
       "      <td>No</td>\n",
       "      <td>0</td>\n",
       "    </tr>\n",
       "    <tr>\n",
       "      <th>5</th>\n",
       "      <td>47830476</td>\n",
       "      <td>Female</td>\n",
       "      <td>1986-05-01</td>\n",
       "      <td>MA</td>\n",
       "      <td>413-187-7945</td>\n",
       "      <td>Silver</td>\n",
       "      <td>91609100</td>\n",
       "      <td>Natural causes</td>\n",
       "      <td>2017-04-12</td>\n",
       "      <td>Auto</td>\n",
       "      <td>Unknown</td>\n",
       "      <td>Material only</td>\n",
       "      <td>1440.0</td>\n",
       "      <td>1.0</td>\n",
       "      <td>No</td>\n",
       "      <td>1</td>\n",
       "    </tr>\n",
       "    <tr>\n",
       "      <th>7</th>\n",
       "      <td>19269962</td>\n",
       "      <td>Male</td>\n",
       "      <td>1977-05-13</td>\n",
       "      <td>NV</td>\n",
       "      <td>956-871-8691</td>\n",
       "      <td>Gold</td>\n",
       "      <td>39219616</td>\n",
       "      <td>Other causes</td>\n",
       "      <td>2018-09-26</td>\n",
       "      <td>Auto</td>\n",
       "      <td>No</td>\n",
       "      <td>Material only</td>\n",
       "      <td>2240.0</td>\n",
       "      <td>2.0</td>\n",
       "      <td>No</td>\n",
       "      <td>0</td>\n",
       "    </tr>\n",
       "    <tr>\n",
       "      <th>...</th>\n",
       "      <td>...</td>\n",
       "      <td>...</td>\n",
       "      <td>...</td>\n",
       "      <td>...</td>\n",
       "      <td>...</td>\n",
       "      <td>...</td>\n",
       "      <td>...</td>\n",
       "      <td>...</td>\n",
       "      <td>...</td>\n",
       "      <td>...</td>\n",
       "      <td>...</td>\n",
       "      <td>...</td>\n",
       "      <td>...</td>\n",
       "      <td>...</td>\n",
       "      <td>...</td>\n",
       "      <td>...</td>\n",
       "    </tr>\n",
       "    <tr>\n",
       "      <th>1080</th>\n",
       "      <td>79539873</td>\n",
       "      <td>Female</td>\n",
       "      <td>1981-03-15</td>\n",
       "      <td>ND</td>\n",
       "      <td>459-425-4319</td>\n",
       "      <td>Platinum</td>\n",
       "      <td>62020796</td>\n",
       "      <td>Other driver error</td>\n",
       "      <td>2018-09-06</td>\n",
       "      <td>Auto</td>\n",
       "      <td>Yes</td>\n",
       "      <td>Material only</td>\n",
       "      <td>1770.0</td>\n",
       "      <td>1.0</td>\n",
       "      <td>No</td>\n",
       "      <td>0</td>\n",
       "    </tr>\n",
       "    <tr>\n",
       "      <th>1081</th>\n",
       "      <td>42364152</td>\n",
       "      <td>Female</td>\n",
       "      <td>1996-07-07</td>\n",
       "      <td>ID</td>\n",
       "      <td>529-462-1635</td>\n",
       "      <td>Silver</td>\n",
       "      <td>63269067</td>\n",
       "      <td>Other causes</td>\n",
       "      <td>2017-05-09</td>\n",
       "      <td>Home</td>\n",
       "      <td>No</td>\n",
       "      <td>Material only</td>\n",
       "      <td>2800.0</td>\n",
       "      <td>1.0</td>\n",
       "      <td>No</td>\n",
       "      <td>0</td>\n",
       "    </tr>\n",
       "    <tr>\n",
       "      <th>1082</th>\n",
       "      <td>19888166</td>\n",
       "      <td>Male</td>\n",
       "      <td>1990-04-11</td>\n",
       "      <td>WI</td>\n",
       "      <td>712-651-9613</td>\n",
       "      <td>Gold</td>\n",
       "      <td>22690595</td>\n",
       "      <td>Other driver error</td>\n",
       "      <td>2017-05-15</td>\n",
       "      <td>Auto</td>\n",
       "      <td>Yes</td>\n",
       "      <td>Injury only</td>\n",
       "      <td>33080.0</td>\n",
       "      <td>2.0</td>\n",
       "      <td>No</td>\n",
       "      <td>0</td>\n",
       "    </tr>\n",
       "    <tr>\n",
       "      <th>1083</th>\n",
       "      <td>11256802</td>\n",
       "      <td>Female</td>\n",
       "      <td>1964-10-22</td>\n",
       "      <td>LA</td>\n",
       "      <td>469-345-5617</td>\n",
       "      <td>Silver</td>\n",
       "      <td>12376894</td>\n",
       "      <td>Other driver error</td>\n",
       "      <td>2017-04-18</td>\n",
       "      <td>Auto</td>\n",
       "      <td>No</td>\n",
       "      <td>Material only</td>\n",
       "      <td>2840.0</td>\n",
       "      <td>4.0</td>\n",
       "      <td>No</td>\n",
       "      <td>0</td>\n",
       "    </tr>\n",
       "    <tr>\n",
       "      <th>1084</th>\n",
       "      <td>61575264</td>\n",
       "      <td>Male</td>\n",
       "      <td>1995-07-12</td>\n",
       "      <td>WY</td>\n",
       "      <td>182-385-1392</td>\n",
       "      <td>Gold</td>\n",
       "      <td>63226031</td>\n",
       "      <td>Natural causes</td>\n",
       "      <td>2017-03-16</td>\n",
       "      <td>Auto</td>\n",
       "      <td>No</td>\n",
       "      <td>Material only</td>\n",
       "      <td>1490.0</td>\n",
       "      <td>1.0</td>\n",
       "      <td>No</td>\n",
       "      <td>0</td>\n",
       "    </tr>\n",
       "  </tbody>\n",
       "</table>\n",
       "<p>1078 rows × 16 columns</p>\n",
       "</div>"
      ],
      "text/plain": [
       "       CUST_ID  gender DateOfBirth State       Contact   Segment  claim_id  \\\n",
       "0     21868593  Female  1979-01-12    VT  789-916-8172  Platinum  54004764   \n",
       "1     75740424  Female  1970-01-13    ME  265-543-1264    Silver  33985796   \n",
       "3     30308357  Female  1984-03-11    TN  798-631-4758    Silver  63017412   \n",
       "5     47830476  Female  1986-05-01    MA  413-187-7945    Silver  91609100   \n",
       "7     19269962    Male  1977-05-13    NV  956-871-8691      Gold  39219616   \n",
       "...        ...     ...         ...   ...           ...       ...       ...   \n",
       "1080  79539873  Female  1981-03-15    ND  459-425-4319  Platinum  62020796   \n",
       "1081  42364152  Female  1996-07-07    ID  529-462-1635    Silver  63269067   \n",
       "1082  19888166    Male  1990-04-11    WI  712-651-9613      Gold  22690595   \n",
       "1083  11256802  Female  1964-10-22    LA  469-345-5617    Silver  12376894   \n",
       "1084  61575264    Male  1995-07-12    WY  182-385-1392      Gold  63226031   \n",
       "\n",
       "          incident_cause claim_date claim_area police_report     claim_type  \\\n",
       "0           Driver error 2017-11-27       Auto            No  Material only   \n",
       "1                  Crime 2018-10-03       Home       Unknown  Material only   \n",
       "3           Driver error 2018-04-04       Auto            No  Material only   \n",
       "5         Natural causes 2017-04-12       Auto       Unknown  Material only   \n",
       "7           Other causes 2018-09-26       Auto            No  Material only   \n",
       "...                  ...        ...        ...           ...            ...   \n",
       "1080  Other driver error 2018-09-06       Auto           Yes  Material only   \n",
       "1081        Other causes 2017-05-09       Home            No  Material only   \n",
       "1082  Other driver error 2017-05-15       Auto           Yes    Injury only   \n",
       "1083  Other driver error 2017-04-18       Auto            No  Material only   \n",
       "1084      Natural causes 2017-03-16       Auto            No  Material only   \n",
       "\n",
       "      claim_amount  total_policy_claims fraudulent  unreported  \n",
       "0           2980.0                  1.0         No           0  \n",
       "1           2980.0                  3.0         No           1  \n",
       "3           1950.0                  6.0         No           0  \n",
       "5           1440.0                  1.0         No           1  \n",
       "7           2240.0                  2.0         No           0  \n",
       "...            ...                  ...        ...         ...  \n",
       "1080        1770.0                  1.0         No           0  \n",
       "1081        2800.0                  1.0         No           0  \n",
       "1082       33080.0                  2.0         No           0  \n",
       "1083        2840.0                  4.0         No           0  \n",
       "1084        1490.0                  1.0         No           0  \n",
       "\n",
       "[1078 rows x 16 columns]"
      ]
     },
     "execution_count": 23,
     "metadata": {},
     "output_type": "execute_result"
    }
   ],
   "source": [
    "merged_c_c=merged_c_c.drop_duplicates(subset=[\"CUST_ID\"], keep= \"last\")\n",
    "merged_c_c\n"
   ]
  },
  {
   "cell_type": "markdown",
   "id": "7bb9ab47",
   "metadata": {},
   "source": [
    "### 6. Check for missing values and impute the missing values with an appropriate value. (mean for continuous and mode for categorical) "
   ]
  },
  {
   "cell_type": "code",
   "execution_count": 24,
   "id": "42f30b21",
   "metadata": {},
   "outputs": [
    {
     "data": {
      "text/plain": [
       "CUST_ID                 0\n",
       "gender                  0\n",
       "DateOfBirth             0\n",
       "State                   0\n",
       "Contact                 0\n",
       "Segment                 0\n",
       "claim_id                0\n",
       "incident_cause          0\n",
       "claim_date              0\n",
       "claim_area              0\n",
       "police_report           0\n",
       "claim_type              0\n",
       "claim_amount            0\n",
       "total_policy_claims    10\n",
       "fraudulent              0\n",
       "unreported              0\n",
       "dtype: int64"
      ]
     },
     "execution_count": 24,
     "metadata": {},
     "output_type": "execute_result"
    }
   ],
   "source": [
    "merged_c_c.isna().sum()"
   ]
  },
  {
   "cell_type": "code",
   "execution_count": 25,
   "id": "5f6d151d",
   "metadata": {},
   "outputs": [
    {
     "data": {
      "text/plain": [
       "0"
      ]
     },
     "execution_count": 25,
     "metadata": {},
     "output_type": "execute_result"
    }
   ],
   "source": [
    "merged_c_c[\"claim_amount\"]= merged_c_c['claim_amount'].replace(np.NaN,merged_c_c['claim_amount'].mean())\n",
    "merged_c_c[\"claim_amount\"].isna().sum()\n"
   ]
  },
  {
   "cell_type": "code",
   "execution_count": 26,
   "id": "50838cc2",
   "metadata": {},
   "outputs": [
    {
     "name": "stdout",
     "output_type": "stream",
     "text": [
      "<class 'pandas.core.frame.DataFrame'>\n",
      "Int64Index: 1078 entries, 0 to 1084\n",
      "Data columns (total 16 columns):\n",
      " #   Column               Non-Null Count  Dtype         \n",
      "---  ------               --------------  -----         \n",
      " 0   CUST_ID              1078 non-null   int64         \n",
      " 1   gender               1078 non-null   object        \n",
      " 2   DateOfBirth          1078 non-null   datetime64[ns]\n",
      " 3   State                1078 non-null   object        \n",
      " 4   Contact              1078 non-null   object        \n",
      " 5   Segment              1078 non-null   object        \n",
      " 6   claim_id             1078 non-null   int64         \n",
      " 7   incident_cause       1078 non-null   object        \n",
      " 8   claim_date           1078 non-null   datetime64[ns]\n",
      " 9   claim_area           1078 non-null   object        \n",
      " 10  police_report        1078 non-null   object        \n",
      " 11  claim_type           1078 non-null   object        \n",
      " 12  claim_amount         1078 non-null   float64       \n",
      " 13  total_policy_claims  1068 non-null   float64       \n",
      " 14  fraudulent           1078 non-null   object        \n",
      " 15  unreported           1078 non-null   int32         \n",
      "dtypes: datetime64[ns](2), float64(2), int32(1), int64(2), object(9)\n",
      "memory usage: 139.0+ KB\n"
     ]
    }
   ],
   "source": [
    "merged_c_c.info()\n"
   ]
  },
  {
   "cell_type": "code",
   "execution_count": 29,
   "id": "90274b0f",
   "metadata": {},
   "outputs": [
    {
     "data": {
      "text/plain": [
       "0     1.0\n",
       "1     3.0\n",
       "3     6.0\n",
       "5     1.0\n",
       "7     2.0\n",
       "9     1.0\n",
       "10    4.0\n",
       "11    3.0\n",
       "12    1.0\n",
       "13    2.0\n",
       "14    1.0\n",
       "15    1.0\n",
       "16    1.0\n",
       "17    1.0\n",
       "18    1.0\n",
       "19    1.0\n",
       "20    1.0\n",
       "21    1.0\n",
       "22    1.0\n",
       "23    1.0\n",
       "24    1.0\n",
       "25    1.0\n",
       "26    1.0\n",
       "27    1.0\n",
       "28    1.0\n",
       "29    1.0\n",
       "Name: total_policy_claims, dtype: float64"
      ]
     },
     "execution_count": 29,
     "metadata": {},
     "output_type": "execute_result"
    }
   ],
   "source": [
    "merged_c_c[\"total_policy_claims\"] = merged_c_c['total_policy_claims'].fillna(merged_c_c['total_policy_claims'].mode()[0])\n",
    "merged_c_c[\"total_policy_claims\"] .head(26)\n"
   ]
  },
  {
   "cell_type": "code",
   "execution_count": 30,
   "id": "301f79e5",
   "metadata": {},
   "outputs": [
    {
     "data": {
      "text/plain": [
       "0     1.0\n",
       "1     3.0\n",
       "3     6.0\n",
       "5     1.0\n",
       "7     2.0\n",
       "9     1.0\n",
       "10    4.0\n",
       "11    3.0\n",
       "12    1.0\n",
       "13    2.0\n",
       "14    1.0\n",
       "15    1.0\n",
       "16    1.0\n",
       "17    1.0\n",
       "18    1.0\n",
       "19    1.0\n",
       "20    1.0\n",
       "21    1.0\n",
       "22    1.0\n",
       "23    1.0\n",
       "24    1.0\n",
       "25    1.0\n",
       "26    1.0\n",
       "27    1.0\n",
       "28    1.0\n",
       "29    1.0\n",
       "Name: total_policy_claims, dtype: object"
      ]
     },
     "execution_count": 30,
     "metadata": {},
     "output_type": "execute_result"
    }
   ],
   "source": [
    "merged_c_c[\"total_policy_claims\"] = merged_c_c[\"total_policy_claims\"] .astype(str)\n",
    "merged_c_c[\"total_policy_claims\"].head(26) "
   ]
  },
  {
   "cell_type": "code",
   "execution_count": 31,
   "id": "ec5e067e",
   "metadata": {},
   "outputs": [
    {
     "data": {
      "text/plain": [
       "0"
      ]
     },
     "execution_count": 31,
     "metadata": {},
     "output_type": "execute_result"
    }
   ],
   "source": [
    "merged_c_c[\"total_policy_claims\"].isna().sum()\n"
   ]
  },
  {
   "cell_type": "markdown",
   "id": "f01a720a",
   "metadata": {},
   "source": [
    "### 7. Calculate the age of customers in years. Based on the age, categorize thecustomers according to the below criteria : Children < 18 Youth 18-30 Adult 30-60 Senior > 60"
   ]
  },
  {
   "cell_type": "code",
   "execution_count": 32,
   "id": "43a8e868",
   "metadata": {},
   "outputs": [
    {
     "data": {
      "text/html": [
       "<div>\n",
       "<style scoped>\n",
       "    .dataframe tbody tr th:only-of-type {\n",
       "        vertical-align: middle;\n",
       "    }\n",
       "\n",
       "    .dataframe tbody tr th {\n",
       "        vertical-align: top;\n",
       "    }\n",
       "\n",
       "    .dataframe thead th {\n",
       "        text-align: right;\n",
       "    }\n",
       "</style>\n",
       "<table border=\"1\" class=\"dataframe\">\n",
       "  <thead>\n",
       "    <tr style=\"text-align: right;\">\n",
       "      <th></th>\n",
       "      <th>CUST_ID</th>\n",
       "      <th>gender</th>\n",
       "      <th>DateOfBirth</th>\n",
       "      <th>State</th>\n",
       "      <th>Contact</th>\n",
       "      <th>Segment</th>\n",
       "      <th>claim_id</th>\n",
       "      <th>incident_cause</th>\n",
       "      <th>claim_date</th>\n",
       "      <th>claim_area</th>\n",
       "      <th>police_report</th>\n",
       "      <th>claim_type</th>\n",
       "      <th>claim_amount</th>\n",
       "      <th>total_policy_claims</th>\n",
       "      <th>fraudulent</th>\n",
       "      <th>unreported</th>\n",
       "      <th>age</th>\n",
       "      <th>AgeGroup</th>\n",
       "    </tr>\n",
       "  </thead>\n",
       "  <tbody>\n",
       "    <tr>\n",
       "      <th>0</th>\n",
       "      <td>21868593</td>\n",
       "      <td>Female</td>\n",
       "      <td>1979-01-12</td>\n",
       "      <td>VT</td>\n",
       "      <td>789-916-8172</td>\n",
       "      <td>Platinum</td>\n",
       "      <td>54004764</td>\n",
       "      <td>Driver error</td>\n",
       "      <td>2017-11-27</td>\n",
       "      <td>Auto</td>\n",
       "      <td>No</td>\n",
       "      <td>Material only</td>\n",
       "      <td>2980.0</td>\n",
       "      <td>1.0</td>\n",
       "      <td>No</td>\n",
       "      <td>0</td>\n",
       "      <td>43</td>\n",
       "      <td>Adult</td>\n",
       "    </tr>\n",
       "    <tr>\n",
       "      <th>1</th>\n",
       "      <td>75740424</td>\n",
       "      <td>Female</td>\n",
       "      <td>1970-01-13</td>\n",
       "      <td>ME</td>\n",
       "      <td>265-543-1264</td>\n",
       "      <td>Silver</td>\n",
       "      <td>33985796</td>\n",
       "      <td>Crime</td>\n",
       "      <td>2018-10-03</td>\n",
       "      <td>Home</td>\n",
       "      <td>Unknown</td>\n",
       "      <td>Material only</td>\n",
       "      <td>2980.0</td>\n",
       "      <td>3.0</td>\n",
       "      <td>No</td>\n",
       "      <td>1</td>\n",
       "      <td>52</td>\n",
       "      <td>Adult</td>\n",
       "    </tr>\n",
       "    <tr>\n",
       "      <th>3</th>\n",
       "      <td>30308357</td>\n",
       "      <td>Female</td>\n",
       "      <td>1984-03-11</td>\n",
       "      <td>TN</td>\n",
       "      <td>798-631-4758</td>\n",
       "      <td>Silver</td>\n",
       "      <td>63017412</td>\n",
       "      <td>Driver error</td>\n",
       "      <td>2018-04-04</td>\n",
       "      <td>Auto</td>\n",
       "      <td>No</td>\n",
       "      <td>Material only</td>\n",
       "      <td>1950.0</td>\n",
       "      <td>6.0</td>\n",
       "      <td>No</td>\n",
       "      <td>0</td>\n",
       "      <td>38</td>\n",
       "      <td>Adult</td>\n",
       "    </tr>\n",
       "    <tr>\n",
       "      <th>5</th>\n",
       "      <td>47830476</td>\n",
       "      <td>Female</td>\n",
       "      <td>1986-05-01</td>\n",
       "      <td>MA</td>\n",
       "      <td>413-187-7945</td>\n",
       "      <td>Silver</td>\n",
       "      <td>91609100</td>\n",
       "      <td>Natural causes</td>\n",
       "      <td>2017-04-12</td>\n",
       "      <td>Auto</td>\n",
       "      <td>Unknown</td>\n",
       "      <td>Material only</td>\n",
       "      <td>1440.0</td>\n",
       "      <td>1.0</td>\n",
       "      <td>No</td>\n",
       "      <td>1</td>\n",
       "      <td>36</td>\n",
       "      <td>Adult</td>\n",
       "    </tr>\n",
       "    <tr>\n",
       "      <th>7</th>\n",
       "      <td>19269962</td>\n",
       "      <td>Male</td>\n",
       "      <td>1977-05-13</td>\n",
       "      <td>NV</td>\n",
       "      <td>956-871-8691</td>\n",
       "      <td>Gold</td>\n",
       "      <td>39219616</td>\n",
       "      <td>Other causes</td>\n",
       "      <td>2018-09-26</td>\n",
       "      <td>Auto</td>\n",
       "      <td>No</td>\n",
       "      <td>Material only</td>\n",
       "      <td>2240.0</td>\n",
       "      <td>2.0</td>\n",
       "      <td>No</td>\n",
       "      <td>0</td>\n",
       "      <td>45</td>\n",
       "      <td>Adult</td>\n",
       "    </tr>\n",
       "  </tbody>\n",
       "</table>\n",
       "</div>"
      ],
      "text/plain": [
       "    CUST_ID  gender DateOfBirth State       Contact   Segment  claim_id  \\\n",
       "0  21868593  Female  1979-01-12    VT  789-916-8172  Platinum  54004764   \n",
       "1  75740424  Female  1970-01-13    ME  265-543-1264    Silver  33985796   \n",
       "3  30308357  Female  1984-03-11    TN  798-631-4758    Silver  63017412   \n",
       "5  47830476  Female  1986-05-01    MA  413-187-7945    Silver  91609100   \n",
       "7  19269962    Male  1977-05-13    NV  956-871-8691      Gold  39219616   \n",
       "\n",
       "   incident_cause claim_date claim_area police_report     claim_type  \\\n",
       "0    Driver error 2017-11-27       Auto            No  Material only   \n",
       "1           Crime 2018-10-03       Home       Unknown  Material only   \n",
       "3    Driver error 2018-04-04       Auto            No  Material only   \n",
       "5  Natural causes 2017-04-12       Auto       Unknown  Material only   \n",
       "7    Other causes 2018-09-26       Auto            No  Material only   \n",
       "\n",
       "   claim_amount total_policy_claims fraudulent  unreported  age AgeGroup  \n",
       "0        2980.0                 1.0         No           0   43    Adult  \n",
       "1        2980.0                 3.0         No           1   52    Adult  \n",
       "3        1950.0                 6.0         No           0   38    Adult  \n",
       "5        1440.0                 1.0         No           1   36    Adult  \n",
       "7        2240.0                 2.0         No           0   45    Adult  "
      ]
     },
     "execution_count": 32,
     "metadata": {},
     "output_type": "execute_result"
    }
   ],
   "source": [
    "current_year = pd.to_datetime('today').year\n",
    "dob_year = pd.DatetimeIndex(merged_c_c['DateOfBirth']).year          \n",
    "x = dob_year-100                                               \n",
    "v =current_year - x\n",
    "y = current_year- dob_year\n",
    "merged_c_c['age'] = (np.where(dob_year > current_year,v,y))\n",
    "\n",
    "merged_c_c.loc[(merged_c_c.age < 18),'AgeGroup'] = 'Children'\n",
    "merged_c_c.loc[(merged_c_c.age >=18) & (merged_c_c.age <30),'AgeGroup'] = 'Youth'\n",
    "merged_c_c.loc[(merged_c_c.age >=30) & (merged_c_c.age <60),'AgeGroup'] = 'Adult'\n",
    "merged_c_c.loc[(merged_c_c.age >=60),'AgeGroup'] = 'Senior'\n",
    "merged_c_c.head(5)"
   ]
  },
  {
   "cell_type": "code",
   "execution_count": 33,
   "id": "1bc0bab9",
   "metadata": {},
   "outputs": [
    {
     "data": {
      "text/plain": [
       "AgeGroup\n",
       "Adult     795\n",
       "Senior     75\n",
       "Youth     208\n",
       "Name: age, dtype: int64"
      ]
     },
     "execution_count": 33,
     "metadata": {},
     "output_type": "execute_result"
    }
   ],
   "source": [
    "merged_c_c.groupby([\"AgeGroup\"])[\"age\"].count()"
   ]
  },
  {
   "cell_type": "markdown",
   "id": "ef4c64a3",
   "metadata": {},
   "source": [
    "### 8. What is the average amount claimed by the customers from various segments?"
   ]
  },
  {
   "cell_type": "code",
   "execution_count": 34,
   "id": "07b9a00e",
   "metadata": {},
   "outputs": [
    {
     "data": {
      "text/plain": [
       "Segment\n",
       "Gold        12105.06\n",
       "Platinum    11852.19\n",
       "Silver      11255.47\n",
       "Name: claim_amount, dtype: float64"
      ]
     },
     "execution_count": 34,
     "metadata": {},
     "output_type": "execute_result"
    }
   ],
   "source": [
    "Avg= round(merged_c_c.groupby([\"Segment\"])[\"claim_amount\"].mean(),2)\n",
    "Avg"
   ]
  },
  {
   "cell_type": "code",
   "execution_count": 36,
   "id": "38b6a2cd",
   "metadata": {},
   "outputs": [],
   "source": [
    "#pivot looks\n",
    "#merged_c_c.groupby(by=\"Segment\")[[\"claim_amount\"]].mean()"
   ]
  },
  {
   "cell_type": "markdown",
   "id": "d3f0dcad",
   "metadata": {},
   "source": [
    "### 9. What is the total claim amount based on incident cause for all the claims that have been done at least 20 days prior to 1st of October, 2018."
   ]
  },
  {
   "cell_type": "code",
   "execution_count": 37,
   "id": "7e6e53ca",
   "metadata": {},
   "outputs": [
    {
     "data": {
      "text/plain": [
       "incident_cause\n",
       "total_Crime                  659430.0\n",
       "total_Driver error          3165830.0\n",
       "total_Natural causes        1200231.5\n",
       "total_Other causes          3485619.0\n",
       "total_Other driver error    3115014.0\n",
       "Name: claim_amount, dtype: float64"
      ]
     },
     "execution_count": 37,
     "metadata": {},
     "output_type": "execute_result"
    }
   ],
   "source": [
    "merged_c_c.loc[merged_c_c.claim_date < \"2018-09-10\",:].groupby(\"incident_cause\")[\"claim_amount\"].sum().add_prefix(\"total_\")"
   ]
  },
  {
   "cell_type": "markdown",
   "id": "b5429702",
   "metadata": {},
   "source": [
    "### 10. How many adults from TX, DE and AK claimed insurance for driver related issues and causes?"
   ]
  },
  {
   "cell_type": "code",
   "execution_count": 38,
   "id": "0da6d972",
   "metadata": {},
   "outputs": [
    {
     "data": {
      "text/plain": [
       "State\n",
       "AK    10\n",
       "DE    15\n",
       "TX    10\n",
       "Name: State, dtype: int64"
      ]
     },
     "execution_count": 38,
     "metadata": {},
     "output_type": "execute_result"
    }
   ],
   "source": [
    "merged_c_c.loc[(merged_c_c.incident_cause.str.lower().str.contains(\"driver\")  & ((merged_c_c.State == \"TX\") | (merged_c_c.State == \"DE\") | (merged_c_c.State == \"AK\"))),:].groupby(by = \"State\")[\"State\"].count()"
   ]
  },
  {
   "cell_type": "code",
   "execution_count": 39,
   "id": "0c8aca3a",
   "metadata": {},
   "outputs": [
    {
     "data": {
      "text/plain": [
       "Index(['CUST_ID', 'gender', 'DateOfBirth', 'State', 'Contact', 'Segment',\n",
       "       'claim_id', 'incident_cause', 'claim_date', 'claim_area',\n",
       "       'police_report', 'claim_type', 'claim_amount', 'total_policy_claims',\n",
       "       'fraudulent', 'unreported', 'age', 'AgeGroup'],\n",
       "      dtype='object')"
      ]
     },
     "execution_count": 39,
     "metadata": {},
     "output_type": "execute_result"
    }
   ],
   "source": [
    "merged_c_c.columns"
   ]
  },
  {
   "cell_type": "code",
   "execution_count": 40,
   "id": "8f2d0f60",
   "metadata": {},
   "outputs": [
    {
     "data": {
      "text/plain": [
       "State\n",
       "AK    19\n",
       "DE    29\n",
       "TX    10\n",
       "Name: claim_amount, dtype: int64"
      ]
     },
     "execution_count": 40,
     "metadata": {},
     "output_type": "execute_result"
    }
   ],
   "source": [
    "merged_c_c.loc[(merged_c_c.incident_cause.str.lower().str.contains(\"driver\") & (merged_c_c.State== \"TX\") | (merged_c_c.State== \"DE\") | (merged_c_c.State== \"AK\")) ].groupby([\"State\"])[\"claim_amount\"].count()"
   ]
  },
  {
   "cell_type": "markdown",
   "id": "618bd616",
   "metadata": {},
   "source": [
    "### 11. Draw a pie chart between the aggregated value of claim amount based on gender and segment. Represent the claim amount as a percentage on the pie chart."
   ]
  },
  {
   "cell_type": "code",
   "execution_count": 41,
   "id": "89d9957f",
   "metadata": {},
   "outputs": [
    {
     "data": {
      "text/html": [
       "<div>\n",
       "<style scoped>\n",
       "    .dataframe tbody tr th:only-of-type {\n",
       "        vertical-align: middle;\n",
       "    }\n",
       "\n",
       "    .dataframe tbody tr th {\n",
       "        vertical-align: top;\n",
       "    }\n",
       "\n",
       "    .dataframe thead th {\n",
       "        text-align: right;\n",
       "    }\n",
       "</style>\n",
       "<table border=\"1\" class=\"dataframe\">\n",
       "  <thead>\n",
       "    <tr style=\"text-align: right;\">\n",
       "      <th></th>\n",
       "      <th>Segment</th>\n",
       "      <th>gender</th>\n",
       "      <th>claim_amount</th>\n",
       "    </tr>\n",
       "  </thead>\n",
       "  <tbody>\n",
       "    <tr>\n",
       "      <th>0</th>\n",
       "      <td>Gold</td>\n",
       "      <td>Female</td>\n",
       "      <td>1997529.0</td>\n",
       "    </tr>\n",
       "    <tr>\n",
       "      <th>1</th>\n",
       "      <td>Gold</td>\n",
       "      <td>Male</td>\n",
       "      <td>2493447.5</td>\n",
       "    </tr>\n",
       "    <tr>\n",
       "      <th>2</th>\n",
       "      <td>Platinum</td>\n",
       "      <td>Female</td>\n",
       "      <td>2282210.0</td>\n",
       "    </tr>\n",
       "    <tr>\n",
       "      <th>3</th>\n",
       "      <td>Platinum</td>\n",
       "      <td>Male</td>\n",
       "      <td>1996431.5</td>\n",
       "    </tr>\n",
       "    <tr>\n",
       "      <th>4</th>\n",
       "      <td>Silver</td>\n",
       "      <td>Female</td>\n",
       "      <td>1734782.5</td>\n",
       "    </tr>\n",
       "    <tr>\n",
       "      <th>5</th>\n",
       "      <td>Silver</td>\n",
       "      <td>Male</td>\n",
       "      <td>2159608.5</td>\n",
       "    </tr>\n",
       "  </tbody>\n",
       "</table>\n",
       "</div>"
      ],
      "text/plain": [
       "    Segment  gender  claim_amount\n",
       "0      Gold  Female     1997529.0\n",
       "1      Gold    Male     2493447.5\n",
       "2  Platinum  Female     2282210.0\n",
       "3  Platinum    Male     1996431.5\n",
       "4    Silver  Female     1734782.5\n",
       "5    Silver    Male     2159608.5"
      ]
     },
     "execution_count": 41,
     "metadata": {},
     "output_type": "execute_result"
    }
   ],
   "source": [
    "gender_segment= round(merged_c_c.groupby([\"Segment\", \"gender\"])[\"claim_amount\"].sum().reset_index(),2)\n",
    "gender_segment\n"
   ]
  },
  {
   "cell_type": "code",
   "execution_count": 42,
   "id": "8214c98a",
   "metadata": {},
   "outputs": [
    {
     "data": {
      "text/html": [
       "<div>\n",
       "<style scoped>\n",
       "    .dataframe tbody tr th:only-of-type {\n",
       "        vertical-align: middle;\n",
       "    }\n",
       "\n",
       "    .dataframe tbody tr th {\n",
       "        vertical-align: top;\n",
       "    }\n",
       "\n",
       "    .dataframe thead th {\n",
       "        text-align: right;\n",
       "    }\n",
       "</style>\n",
       "<table border=\"1\" class=\"dataframe\">\n",
       "  <thead>\n",
       "    <tr style=\"text-align: right;\">\n",
       "      <th>gender</th>\n",
       "      <th>Female</th>\n",
       "      <th>Male</th>\n",
       "    </tr>\n",
       "    <tr>\n",
       "      <th>Segment</th>\n",
       "      <th></th>\n",
       "      <th></th>\n",
       "    </tr>\n",
       "  </thead>\n",
       "  <tbody>\n",
       "    <tr>\n",
       "      <th>Gold</th>\n",
       "      <td>1997529.0</td>\n",
       "      <td>2493447.5</td>\n",
       "    </tr>\n",
       "    <tr>\n",
       "      <th>Platinum</th>\n",
       "      <td>2282210.0</td>\n",
       "      <td>1996431.5</td>\n",
       "    </tr>\n",
       "    <tr>\n",
       "      <th>Silver</th>\n",
       "      <td>1734782.5</td>\n",
       "      <td>2159608.5</td>\n",
       "    </tr>\n",
       "  </tbody>\n",
       "</table>\n",
       "</div>"
      ],
      "text/plain": [
       "gender       Female       Male\n",
       "Segment                       \n",
       "Gold      1997529.0  2493447.5\n",
       "Platinum  2282210.0  1996431.5\n",
       "Silver    1734782.5  2159608.5"
      ]
     },
     "execution_count": 42,
     "metadata": {},
     "output_type": "execute_result"
    }
   ],
   "source": [
    "gender_segment_pivot=gender_segment.pivot(index=\"Segment\", columns= \"gender\", values= \"claim_amount\")\n",
    "gender_segment_pivot\n"
   ]
  },
  {
   "cell_type": "code",
   "execution_count": 45,
   "id": "985784a9",
   "metadata": {},
   "outputs": [
    {
     "data": {
      "image/png": "[encoded data removed]",
      "text/plain": [
       "<Figure size 1440x360 with 3 Axes>"
      ]
     },
     "metadata": {},
     "output_type": "display_data"
    }
   ],
   "source": [
    "gender_segment_pivot.T.plot(kind=\"pie\", subplots= True, legend= False,figsize=(20,5))\n",
    "plt.show()"
   ]
  },
  {
   "cell_type": "markdown",
   "id": "4758eddb",
   "metadata": {},
   "source": [
    "### 12. Among males and females, which gender had claimed the most for any type of driver related issues? E.g. This metric can be compared using a bar chart¶"
   ]
  },
  {
   "cell_type": "code",
   "execution_count": 46,
   "id": "416179e3",
   "metadata": {},
   "outputs": [
    {
     "data": {
      "text/html": [
       "<div>\n",
       "<style scoped>\n",
       "    .dataframe tbody tr th:only-of-type {\n",
       "        vertical-align: middle;\n",
       "    }\n",
       "\n",
       "    .dataframe tbody tr th {\n",
       "        vertical-align: top;\n",
       "    }\n",
       "\n",
       "    .dataframe thead th {\n",
       "        text-align: right;\n",
       "    }\n",
       "</style>\n",
       "<table border=\"1\" class=\"dataframe\">\n",
       "  <thead>\n",
       "    <tr style=\"text-align: right;\">\n",
       "      <th></th>\n",
       "      <th>gender</th>\n",
       "      <th>CountOf_gender</th>\n",
       "    </tr>\n",
       "  </thead>\n",
       "  <tbody>\n",
       "    <tr>\n",
       "      <th>0</th>\n",
       "      <td>Female</td>\n",
       "      <td>221</td>\n",
       "    </tr>\n",
       "    <tr>\n",
       "      <th>1</th>\n",
       "      <td>Male</td>\n",
       "      <td>281</td>\n",
       "    </tr>\n",
       "  </tbody>\n",
       "</table>\n",
       "</div>"
      ],
      "text/plain": [
       "   gender  CountOf_gender\n",
       "0  Female             221\n",
       "1    Male             281"
      ]
     },
     "execution_count": 46,
     "metadata": {},
     "output_type": "execute_result"
    }
   ],
   "source": [
    "a = merged_c_c.loc[(merged_c_c.incident_cause.str.lower().str.contains(\"driver\"))].groupby(by = \"gender\")[[\"gender\"]].count().add_prefix(\"CountOf_\").reset_index()\n",
    "a"
   ]
  },
  {
   "cell_type": "code",
   "execution_count": 47,
   "id": "41e874c3",
   "metadata": {},
   "outputs": [
    {
     "data": {
      "image/png": "[encoded data removed]",
      "text/plain": [
       "<Figure size 432x288 with 1 Axes>"
      ]
     },
     "metadata": {
      "needs_background": "light"
     },
     "output_type": "display_data"
    }
   ],
   "source": [
    "sns.barplot(x = \"gender\", y = \"CountOf_gender\", data=a )\n",
    "plt.show()\n"
   ]
  },
  {
   "cell_type": "markdown",
   "id": "b22c9fba",
   "metadata": {},
   "source": [
    "### 13. Which age group had the maximum fraudulent policy claims? Visualize it on a bar chart."
   ]
  },
  {
   "cell_type": "code",
   "execution_count": 48,
   "id": "30003996",
   "metadata": {},
   "outputs": [
    {
     "data": {
      "text/html": [
       "<div>\n",
       "<style scoped>\n",
       "    .dataframe tbody tr th:only-of-type {\n",
       "        vertical-align: middle;\n",
       "    }\n",
       "\n",
       "    .dataframe tbody tr th {\n",
       "        vertical-align: top;\n",
       "    }\n",
       "\n",
       "    .dataframe thead th {\n",
       "        text-align: right;\n",
       "    }\n",
       "</style>\n",
       "<table border=\"1\" class=\"dataframe\">\n",
       "  <thead>\n",
       "    <tr style=\"text-align: right;\">\n",
       "      <th></th>\n",
       "      <th>CUST_ID</th>\n",
       "      <th>gender</th>\n",
       "      <th>DateOfBirth</th>\n",
       "      <th>State</th>\n",
       "      <th>Contact</th>\n",
       "      <th>Segment</th>\n",
       "      <th>claim_id</th>\n",
       "      <th>incident_cause</th>\n",
       "      <th>claim_date</th>\n",
       "      <th>claim_area</th>\n",
       "      <th>police_report</th>\n",
       "      <th>claim_type</th>\n",
       "      <th>claim_amount</th>\n",
       "      <th>total_policy_claims</th>\n",
       "      <th>fraudulent</th>\n",
       "      <th>unreported</th>\n",
       "      <th>age</th>\n",
       "      <th>AgeGroup</th>\n",
       "    </tr>\n",
       "  </thead>\n",
       "  <tbody>\n",
       "    <tr>\n",
       "      <th>0</th>\n",
       "      <td>21868593</td>\n",
       "      <td>Female</td>\n",
       "      <td>1979-01-12</td>\n",
       "      <td>VT</td>\n",
       "      <td>789-916-8172</td>\n",
       "      <td>Platinum</td>\n",
       "      <td>54004764</td>\n",
       "      <td>Driver error</td>\n",
       "      <td>2017-11-27</td>\n",
       "      <td>Auto</td>\n",
       "      <td>No</td>\n",
       "      <td>Material only</td>\n",
       "      <td>2980.0</td>\n",
       "      <td>1.0</td>\n",
       "      <td>No</td>\n",
       "      <td>0</td>\n",
       "      <td>43</td>\n",
       "      <td>Adult</td>\n",
       "    </tr>\n",
       "    <tr>\n",
       "      <th>1</th>\n",
       "      <td>75740424</td>\n",
       "      <td>Female</td>\n",
       "      <td>1970-01-13</td>\n",
       "      <td>ME</td>\n",
       "      <td>265-543-1264</td>\n",
       "      <td>Silver</td>\n",
       "      <td>33985796</td>\n",
       "      <td>Crime</td>\n",
       "      <td>2018-10-03</td>\n",
       "      <td>Home</td>\n",
       "      <td>Unknown</td>\n",
       "      <td>Material only</td>\n",
       "      <td>2980.0</td>\n",
       "      <td>3.0</td>\n",
       "      <td>No</td>\n",
       "      <td>1</td>\n",
       "      <td>52</td>\n",
       "      <td>Adult</td>\n",
       "    </tr>\n",
       "    <tr>\n",
       "      <th>3</th>\n",
       "      <td>30308357</td>\n",
       "      <td>Female</td>\n",
       "      <td>1984-03-11</td>\n",
       "      <td>TN</td>\n",
       "      <td>798-631-4758</td>\n",
       "      <td>Silver</td>\n",
       "      <td>63017412</td>\n",
       "      <td>Driver error</td>\n",
       "      <td>2018-04-04</td>\n",
       "      <td>Auto</td>\n",
       "      <td>No</td>\n",
       "      <td>Material only</td>\n",
       "      <td>1950.0</td>\n",
       "      <td>6.0</td>\n",
       "      <td>No</td>\n",
       "      <td>0</td>\n",
       "      <td>38</td>\n",
       "      <td>Adult</td>\n",
       "    </tr>\n",
       "    <tr>\n",
       "      <th>5</th>\n",
       "      <td>47830476</td>\n",
       "      <td>Female</td>\n",
       "      <td>1986-05-01</td>\n",
       "      <td>MA</td>\n",
       "      <td>413-187-7945</td>\n",
       "      <td>Silver</td>\n",
       "      <td>91609100</td>\n",
       "      <td>Natural causes</td>\n",
       "      <td>2017-04-12</td>\n",
       "      <td>Auto</td>\n",
       "      <td>Unknown</td>\n",
       "      <td>Material only</td>\n",
       "      <td>1440.0</td>\n",
       "      <td>1.0</td>\n",
       "      <td>No</td>\n",
       "      <td>1</td>\n",
       "      <td>36</td>\n",
       "      <td>Adult</td>\n",
       "    </tr>\n",
       "    <tr>\n",
       "      <th>7</th>\n",
       "      <td>19269962</td>\n",
       "      <td>Male</td>\n",
       "      <td>1977-05-13</td>\n",
       "      <td>NV</td>\n",
       "      <td>956-871-8691</td>\n",
       "      <td>Gold</td>\n",
       "      <td>39219616</td>\n",
       "      <td>Other causes</td>\n",
       "      <td>2018-09-26</td>\n",
       "      <td>Auto</td>\n",
       "      <td>No</td>\n",
       "      <td>Material only</td>\n",
       "      <td>2240.0</td>\n",
       "      <td>2.0</td>\n",
       "      <td>No</td>\n",
       "      <td>0</td>\n",
       "      <td>45</td>\n",
       "      <td>Adult</td>\n",
       "    </tr>\n",
       "  </tbody>\n",
       "</table>\n",
       "</div>"
      ],
      "text/plain": [
       "    CUST_ID  gender DateOfBirth State       Contact   Segment  claim_id  \\\n",
       "0  21868593  Female  1979-01-12    VT  789-916-8172  Platinum  54004764   \n",
       "1  75740424  Female  1970-01-13    ME  265-543-1264    Silver  33985796   \n",
       "3  30308357  Female  1984-03-11    TN  798-631-4758    Silver  63017412   \n",
       "5  47830476  Female  1986-05-01    MA  413-187-7945    Silver  91609100   \n",
       "7  19269962    Male  1977-05-13    NV  956-871-8691      Gold  39219616   \n",
       "\n",
       "   incident_cause claim_date claim_area police_report     claim_type  \\\n",
       "0    Driver error 2017-11-27       Auto            No  Material only   \n",
       "1           Crime 2018-10-03       Home       Unknown  Material only   \n",
       "3    Driver error 2018-04-04       Auto            No  Material only   \n",
       "5  Natural causes 2017-04-12       Auto       Unknown  Material only   \n",
       "7    Other causes 2018-09-26       Auto            No  Material only   \n",
       "\n",
       "   claim_amount total_policy_claims fraudulent  unreported  age AgeGroup  \n",
       "0        2980.0                 1.0         No           0   43    Adult  \n",
       "1        2980.0                 3.0         No           1   52    Adult  \n",
       "3        1950.0                 6.0         No           0   38    Adult  \n",
       "5        1440.0                 1.0         No           1   36    Adult  \n",
       "7        2240.0                 2.0         No           0   45    Adult  "
      ]
     },
     "execution_count": 48,
     "metadata": {},
     "output_type": "execute_result"
    }
   ],
   "source": [
    "merged_c_c.head()"
   ]
  },
  {
   "cell_type": "code",
   "execution_count": 50,
   "id": "f584fb1e",
   "metadata": {},
   "outputs": [
    {
     "data": {
      "text/plain": [
       "0       0\n",
       "1       0\n",
       "3       0\n",
       "5       0\n",
       "7       0\n",
       "       ..\n",
       "1080    0\n",
       "1081    0\n",
       "1082    0\n",
       "1083    0\n",
       "1084    0\n",
       "Name: Frauds, Length: 1078, dtype: int32"
      ]
     },
     "execution_count": 50,
     "metadata": {},
     "output_type": "execute_result"
    }
   ],
   "source": [
    "merged_c_c[\"Frauds\"]= np.where(merged_c_c.fraudulent == \"Yes\",1,0)\n",
    "merged_c_c[\"Frauds\"]"
   ]
  },
  {
   "cell_type": "code",
   "execution_count": 51,
   "id": "fddced39",
   "metadata": {},
   "outputs": [
    {
     "data": {
      "text/html": [
       "<div>\n",
       "<style scoped>\n",
       "    .dataframe tbody tr th:only-of-type {\n",
       "        vertical-align: middle;\n",
       "    }\n",
       "\n",
       "    .dataframe tbody tr th {\n",
       "        vertical-align: top;\n",
       "    }\n",
       "\n",
       "    .dataframe thead th {\n",
       "        text-align: right;\n",
       "    }\n",
       "</style>\n",
       "<table border=\"1\" class=\"dataframe\">\n",
       "  <thead>\n",
       "    <tr style=\"text-align: right;\">\n",
       "      <th></th>\n",
       "      <th>AgeGroup</th>\n",
       "      <th>Frauds</th>\n",
       "    </tr>\n",
       "  </thead>\n",
       "  <tbody>\n",
       "    <tr>\n",
       "      <th>0</th>\n",
       "      <td>Adult</td>\n",
       "      <td>185</td>\n",
       "    </tr>\n",
       "    <tr>\n",
       "      <th>1</th>\n",
       "      <td>Senior</td>\n",
       "      <td>21</td>\n",
       "    </tr>\n",
       "    <tr>\n",
       "      <th>2</th>\n",
       "      <td>Youth</td>\n",
       "      <td>39</td>\n",
       "    </tr>\n",
       "  </tbody>\n",
       "</table>\n",
       "</div>"
      ],
      "text/plain": [
       "  AgeGroup  Frauds\n",
       "0    Adult     185\n",
       "1   Senior      21\n",
       "2    Youth      39"
      ]
     },
     "execution_count": 51,
     "metadata": {},
     "output_type": "execute_result"
    }
   ],
   "source": [
    "max_frauds= merged_c_c.groupby([\"AgeGroup\"])[\"Frauds\"].sum().reset_index()\n",
    "max_frauds"
   ]
  },
  {
   "cell_type": "code",
   "execution_count": 53,
   "id": "bf418074",
   "metadata": {},
   "outputs": [
    {
     "data": {
      "text/plain": [
       "[]"
      ]
     },
     "execution_count": 53,
     "metadata": {},
     "output_type": "execute_result"
    },
    {
     "data": {
      "image/png": "[encoded data removed]",
      "text/plain": [
       "<Figure size 432x288 with 1 Axes>"
      ]
     },
     "metadata": {
      "needs_background": "light"
     },
     "output_type": "display_data"
    }
   ],
   "source": [
    "sns.barplot(x= \"AgeGroup\", y=\"Frauds\", data=max_frauds )\n",
    "plt.plot()"
   ]
  },
  {
   "cell_type": "markdown",
   "id": "6d39450c",
   "metadata": {},
   "source": [
    "### 14. Visualize the monthly trend of the total amount that has been claimed by the customers. Ensure that on the “month” axis, the month is in a chronological order not alphabetical order. "
   ]
  },
  {
   "cell_type": "code",
   "execution_count": 54,
   "id": "f008c2dd",
   "metadata": {},
   "outputs": [
    {
     "data": {
      "text/plain": [
       "0       11\n",
       "1       10\n",
       "3        4\n",
       "5        4\n",
       "7        9\n",
       "        ..\n",
       "1080     9\n",
       "1081     5\n",
       "1082     5\n",
       "1083     4\n",
       "1084     3\n",
       "Name: Claim_month, Length: 1078, dtype: int64"
      ]
     },
     "execution_count": 54,
     "metadata": {},
     "output_type": "execute_result"
    }
   ],
   "source": [
    "merged_c_c['claim_month'] = pd.to_datetime(merged_c_c['claim_date'])\n",
    "merged_c_c['Claim_month'] = merged_c_c['claim_month'].dt.month\n",
    "merged_c_c['Claim_month']"
   ]
  },
  {
   "cell_type": "code",
   "execution_count": 55,
   "id": "9245924e",
   "metadata": {},
   "outputs": [
    {
     "data": {
      "image/png": "[encoded data removed]",
      "text/plain": [
       "<Figure size 432x288 with 1 Axes>"
      ]
     },
     "metadata": {
      "needs_background": "light"
     },
     "output_type": "display_data"
    }
   ],
   "source": [
    "pd.pivot_table(merged_c_c,index=\"Claim_month\",values=\"claim_amount\").plot(kind='bar')\n",
    "plt.ylabel('Total amount spend')\n",
    "plt.show()"
   ]
  },
  {
   "cell_type": "markdown",
   "id": "0f7e419f",
   "metadata": {},
   "source": [
    "### 15. What is the average claim amount for gender and age categories and suitably represent the above using a facetted bar chart, one facet that represents fraudulent claims and the other for non-fraudulent claims."
   ]
  },
  {
   "cell_type": "code",
   "execution_count": 56,
   "id": "9649e883",
   "metadata": {},
   "outputs": [],
   "source": [
    "Frauders= pd.DataFrame(merged_c_c.loc[(merged_c_c.fraudulent==\"Yes\")].groupby([\"gender\",\"AgeGroup\"])[[\"claim_amount\"]].mean().add_prefix(\"Frauders_\"))\n",
    "Non_Frauders=pd.DataFrame(merged_c_c.loc[(merged_c_c.fraudulent==\"No\")].groupby([\"gender\",\"AgeGroup\"])[[\"claim_amount\"]].mean().add_prefix(\"Non_Frauders_\"))"
   ]
  },
  {
   "cell_type": "code",
   "execution_count": 57,
   "id": "d06a5e33",
   "metadata": {},
   "outputs": [
    {
     "data": {
      "text/html": [
       "<div>\n",
       "<style scoped>\n",
       "    .dataframe tbody tr th:only-of-type {\n",
       "        vertical-align: middle;\n",
       "    }\n",
       "\n",
       "    .dataframe tbody tr th {\n",
       "        vertical-align: top;\n",
       "    }\n",
       "\n",
       "    .dataframe thead th {\n",
       "        text-align: right;\n",
       "    }\n",
       "</style>\n",
       "<table border=\"1\" class=\"dataframe\">\n",
       "  <thead>\n",
       "    <tr style=\"text-align: right;\">\n",
       "      <th></th>\n",
       "      <th></th>\n",
       "      <th>Frauders_claim_amount</th>\n",
       "      <th>Non_Frauders_claim_amount</th>\n",
       "    </tr>\n",
       "    <tr>\n",
       "      <th>gender</th>\n",
       "      <th>AgeGroup</th>\n",
       "      <th></th>\n",
       "      <th></th>\n",
       "    </tr>\n",
       "  </thead>\n",
       "  <tbody>\n",
       "    <tr>\n",
       "      <th rowspan=\"3\" valign=\"top\">Female</th>\n",
       "      <th>Adult</th>\n",
       "      <td>11805.82</td>\n",
       "      <td>11645.29</td>\n",
       "    </tr>\n",
       "    <tr>\n",
       "      <th>Senior</th>\n",
       "      <td>3779.08</td>\n",
       "      <td>11840.00</td>\n",
       "    </tr>\n",
       "    <tr>\n",
       "      <th>Youth</th>\n",
       "      <td>6839.21</td>\n",
       "      <td>12402.84</td>\n",
       "    </tr>\n",
       "    <tr>\n",
       "      <th rowspan=\"3\" valign=\"top\">Male</th>\n",
       "      <th>Adult</th>\n",
       "      <td>15251.20</td>\n",
       "      <td>11536.26</td>\n",
       "    </tr>\n",
       "    <tr>\n",
       "      <th>Senior</th>\n",
       "      <td>16879.12</td>\n",
       "      <td>11774.33</td>\n",
       "    </tr>\n",
       "    <tr>\n",
       "      <th>Youth</th>\n",
       "      <td>7105.08</td>\n",
       "      <td>11237.16</td>\n",
       "    </tr>\n",
       "  </tbody>\n",
       "</table>\n",
       "</div>"
      ],
      "text/plain": [
       "                 Frauders_claim_amount  Non_Frauders_claim_amount\n",
       "gender AgeGroup                                                  \n",
       "Female Adult                  11805.82                   11645.29\n",
       "       Senior                  3779.08                   11840.00\n",
       "       Youth                   6839.21                   12402.84\n",
       "Male   Adult                  15251.20                   11536.26\n",
       "       Senior                 16879.12                   11774.33\n",
       "       Youth                   7105.08                   11237.16"
      ]
     },
     "execution_count": 57,
     "metadata": {},
     "output_type": "execute_result"
    }
   ],
   "source": [
    "Claims_gender=round(pd.merge(Frauders,Non_Frauders, on=[\"gender\",\"AgeGroup\"]),2)\n",
    "Claims_gender"
   ]
  },
  {
   "cell_type": "code",
   "execution_count": 58,
   "id": "94c975de",
   "metadata": {},
   "outputs": [
    {
     "data": {
      "image/png": "[encoded data removed]",
      "text/plain": [
       "<Figure size 432x288 with 2 Axes>"
      ]
     },
     "metadata": {
      "needs_background": "light"
     },
     "output_type": "display_data"
    }
   ],
   "source": [
    "Claims_gender.plot(kind=\"bar\", subplots= True, legend= True)\n",
    "plt.show()"
   ]
  },
  {
   "cell_type": "markdown",
   "id": "57a525b7",
   "metadata": {},
   "source": [
    "# STATS PART "
   ]
  },
  {
   "cell_type": "markdown",
   "id": "ae78a177",
   "metadata": {},
   "source": [
    "# Based on the conclusions from exploratory analysis as well as suitable statistical tests, answer the below questions. Please include a detailed write-up on the parameters taken into consideration, the Hypothesis testing steps, conclusion from the p-values and the business implications of the statements.¶"
   ]
  },
  {
   "cell_type": "markdown",
   "id": "5892aa9f",
   "metadata": {},
   "source": [
    "### 16. Is there any similarity in the amount claimed by males and females?"
   ]
  },
  {
   "cell_type": "markdown",
   "id": "cb85a94b",
   "metadata": {},
   "source": [
    "### 17. Is there any relationship between age category and segment?"
   ]
  },
  {
   "cell_type": "markdown",
   "id": "a3de9138",
   "metadata": {},
   "source": [
    "### 18. The current year has shown a significant rise in claim amounts as compared to 2016-17 fiscal average which was $10,000."
   ]
  },
  {
   "cell_type": "markdown",
   "id": "de8e3a41",
   "metadata": {},
   "source": [
    "### 19. Is there any difference between age groups and insurance claims?"
   ]
  },
  {
   "cell_type": "markdown",
   "id": "afbb249d",
   "metadata": {},
   "source": [
    "### 20. Is there any relationship between total number of policy claims and the claimed amount?"
   ]
  },
  {
   "cell_type": "code",
   "execution_count": null,
   "id": "8891eee0",
   "metadata": {},
   "outputs": [],
   "source": []
  },
  {
   "cell_type": "code",
   "execution_count": null,
   "id": "fb971266",
   "metadata": {},
   "outputs": [],
   "source": []
  }
 ],
 "metadata": {
  "kernelspec": {
   "display_name": "Python 3 (ipykernel)",
   "language": "python",
   "name": "python3"
  },
  "language_info": {
   "codemirror_mode": {
    "name": "ipython",
    "version": 3
   },
   "file_extension": ".py",
   "mimetype": "text/x-python",
   "name": "python",
   "nbconvert_exporter": "python",
   "pygments_lexer": "ipython3",
   "version": "3.9.7"
  }
 },
 "nbformat": 4,
 "nbformat_minor": 5
}
